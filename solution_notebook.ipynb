{
 "cells": [
  {
   "cell_type": "markdown",
   "metadata": {},
   "source": [
    "# Desafio 1 - Consigna\n",
    "\n",
    "2. Entrenar modelos de clasificación Naïve Bayes para maximizar el desempeño de clasificación (f1-score macro) en el conjunto de datos de test. Considerar cambiar parámteros de instanciación del vectorizador y los modelos y probar modelos de Naïve Bayes Multinomial y ComplementNB.\n",
    "\n",
    "3. Transponer la matriz documento-término. De esa manera se obtiene una matriz término-documento que puede ser interpretada como una colección de vectorización de palabras. Estudiar ahora similaridad entre palabras tomando 5 palabras y estudiando sus 5 más similares. La elección de palabras no debe ser al azar para evitar la aparición de términos poco interpretables, elegirlas \"manualmente\"."
   ]
  },
  {
   "cell_type": "markdown",
   "metadata": {},
   "source": [
    "## Importación de librerias"
   ]
  },
  {
   "cell_type": "code",
   "execution_count": 2,
   "metadata": {},
   "outputs": [],
   "source": [
    "from sklearn.feature_extraction.text import CountVectorizer, TfidfVectorizer\n",
    "from sklearn.metrics.pairwise import cosine_similarity\n",
    "from sklearn.naive_bayes import MultinomialNB, ComplementNB\n",
    "from sklearn.metrics import f1_score\n",
    "from sklearn.datasets import fetch_20newsgroups\n",
    "import numpy as np"
   ]
  },
  {
   "cell_type": "markdown",
   "metadata": {},
   "source": [
    "## Carga de datos"
   ]
  },
  {
   "cell_type": "code",
   "execution_count": 3,
   "metadata": {},
   "outputs": [],
   "source": [
    "newsgroups_train = fetch_20newsgroups(subset='train', remove=('headers', 'footers', 'quotes'))\n",
    "newsgroups_test = fetch_20newsgroups(subset='test', remove=('headers', 'footers', 'quotes'))"
   ]
  },
  {
   "cell_type": "markdown",
   "metadata": {},
   "source": [
    "## Vectorización de documentos\n",
    "\n",
    "1. Vectorizar documentos. Tomar 5 documentos al azar y medir similaridad con el resto de los documentos. Estudiar los 5 documentos más similares de cada uno analizar si tiene sentido la similaridad según el contenido del texto y la etiqueta de clasificación."
   ]
  },
  {
   "cell_type": "code",
   "execution_count": 4,
   "metadata": {},
   "outputs": [],
   "source": [
    "tfidfvect = TfidfVectorizer()\n",
    "\n",
    "X_train = tfidfvect.fit_transform(newsgroups_train.data)"
   ]
  },
  {
   "cell_type": "code",
   "execution_count": 5,
   "metadata": {},
   "outputs": [
    {
     "data": {
      "text/plain": [
       "array([ 7,  4,  4,  1, 14, 16, 13,  3,  2,  4])"
      ]
     },
     "execution_count": 5,
     "metadata": {},
     "output_type": "execute_result"
    }
   ],
   "source": [
    "y_train = newsgroups_train.target\n",
    "y_train[:10]"
   ]
  },
  {
   "cell_type": "code",
   "execution_count": 6,
   "metadata": {},
   "outputs": [
    {
     "name": "stdout",
     "output_type": "stream",
     "text": [
      "<class 'scipy.sparse._csr.csr_matrix'>\n",
      "Shape: (11314, 101631)\n",
      "Number of documents: 11314\n",
      "Vocabulary size: 101631\n"
     ]
    }
   ],
   "source": [
    "print(type(X_train))\n",
    "print(f'Shape: {X_train.shape}')\n",
    "print(f'Number of documents: {X_train.shape[0]}')\n",
    "print(f'Vocabulary size: {X_train.shape[1]}')"
   ]
  },
  {
   "cell_type": "code",
   "execution_count": 25,
   "metadata": {},
   "outputs": [
    {
     "name": "stdout",
     "output_type": "stream",
     "text": [
      "[11256  7608  5426  5959  3603]\n"
     ]
    }
   ],
   "source": [
    "np.random.seed(40)\n",
    "documents_idx = np.random.choice(X_train.shape[0], 5)\n",
    "print(documents_idx)"
   ]
  },
  {
   "cell_type": "markdown",
   "metadata": {},
   "source": [
    "### Análisis del documento: 11256"
   ]
  },
  {
   "cell_type": "code",
   "execution_count": 89,
   "metadata": {},
   "outputs": [],
   "source": [
    "main_idx = 11256\n",
    "cos_sim = cosine_similarity(X_train[main_idx], X_train)[0]"
   ]
  },
  {
   "cell_type": "code",
   "execution_count": 90,
   "metadata": {},
   "outputs": [
    {
     "name": "stdout",
     "output_type": "stream",
     "text": [
      "Most similar documents to document 11256:\n",
      "[ 1794 10714  8506   111  9736]\n"
     ]
    }
   ],
   "source": [
    "most_similar_idx = np.argsort(cos_sim)[::-1][1:6]\n",
    "\n",
    "print(f'Most similar documents to document {main_idx}:')\n",
    "print(most_similar_idx)"
   ]
  },
  {
   "cell_type": "code",
   "execution_count": 91,
   "metadata": {},
   "outputs": [
    {
     "name": "stdout",
     "output_type": "stream",
     "text": [
      "Class for document 11256: comp.sys.ibm.pc.hardware\n",
      "Content:\n",
      ": I need to know the Pins to connect to make a loopback connector for a serial\n",
      ": port so I can build one.  The loopback connector is used to test the \n",
      ": serial port.\n",
      ": \n",
      ": Thanks for any help.\n",
      ": \n",
      ": \n",
      ": Steve\n",
      ": \n",
      "Me Too!!!!!!!\n",
      "skcgoh@tartarus.uwa.edu.au\n",
      "\n"
     ]
    }
   ],
   "source": [
    "newsgroups_train.target_names[y_train[main_idx]]\n",
    "\n",
    "print(f'Class for document {main_idx}: {newsgroups_train.target_names[y_train[most_similar_idx[0]]]}')\n",
    "print(f'Content:\\n{newsgroups_train.data[main_idx]}')"
   ]
  },
  {
   "cell_type": "code",
   "execution_count": 92,
   "metadata": {},
   "outputs": [],
   "source": [
    "def analyze_similarity(most_similar_idx, documents, labels, cosine_sim_matrix, main_idx, top_n=5):\n",
    "    \"\"\"\n",
    "    Analyze the similarity of selected documents with the rest of the documents.\n",
    "\n",
    "    Parameters:\n",
    "    - most_similar_idx: List of indices of the most similar documents.\n",
    "    - documents: List of documents in the dataset.\n",
    "    - labels: List of labels corresponding to each document.\n",
    "    - cosine_sim_matrix: Cosine similarity matrix of the documents.\n",
    "    - main_idx: Index of the main document to analyze.\n",
    "    - top_n: Number of most similar documents to retrieve for each selected document.\n",
    "    \"\"\"\n",
    "    class_names = newsgroups_train.target_names\n",
    "    \n",
    "    print(f\"\\nTop {top_n} Similar Documents:\\n{'-'*50}\")\n",
    "\n",
    "    for idx in most_similar_idx:\n",
    "        print(f\"\\n{'='*50}\")\n",
    "        print(f\"Analyzing Document {idx}\")\n",
    "        print(f\"{'='*50}\")\n",
    "        print(f\"Content:\\n{documents[idx][:200]}\\n\")\n",
    "        print(f\"Document Class: {class_names[labels[idx]]}\")\n",
    "        print(f\"Main Document Class: {class_names[labels[main_idx]]}\")\n",
    "        print(f\"{'='*50}\")"
   ]
  },
  {
   "cell_type": "code",
   "execution_count": 93,
   "metadata": {},
   "outputs": [
    {
     "name": "stdout",
     "output_type": "stream",
     "text": [
      "\n",
      "Top 5 Similar Documents:\n",
      "--------------------------------------------------\n",
      "\n",
      "==================================================\n",
      "Analyzing Document 1794\n",
      "==================================================\n",
      "Content:\n",
      "I need to know the Pins to connect to make a loopback connector for a serial\n",
      "port so I can build one.  The loopback connector is used to test the \n",
      "serial port.\n",
      "\n",
      "Thanks for any help.\n",
      "\n",
      "\n",
      "Document Class: comp.sys.ibm.pc.hardware\n",
      "Main Document Class: comp.sys.ibm.pc.hardware\n",
      "==================================================\n",
      "\n",
      "==================================================\n",
      "Analyzing Document 10714\n",
      "==================================================\n",
      "Content:\n",
      "Subject says it  all.  Please email soon.  \n",
      "skcgoh@tartarus.uwa.edu.au\n",
      "\n",
      "\n",
      "Document Class: comp.sys.ibm.pc.hardware\n",
      "Main Document Class: comp.sys.ibm.pc.hardware\n",
      "==================================================\n",
      "\n",
      "==================================================\n",
      "Analyzing Document 8506\n",
      "==================================================\n",
      "Content:\n",
      "\n",
      "\n",
      "From a recent BYTE magazine i got the following:\n",
      "\n",
      "[Question and part of the answer deleted]\n",
      "\n",
      "  If you are handy with a soldering iron, the loopback plugs are easy to\n",
      "make.  On a serial RS-232 nine-p\n",
      "\n",
      "Document Class: comp.sys.ibm.pc.hardware\n",
      "Main Document Class: comp.sys.ibm.pc.hardware\n",
      "==================================================\n",
      "\n",
      "==================================================\n",
      "Analyzing Document 111\n",
      "==================================================\n",
      "Content:\n",
      "\n",
      "It would depend on the requirements of the poster's data, for some\n",
      "purposes 1/256 resolution (with or without calibration curve).\n",
      "\n",
      "\n",
      "Otherwise the other possibilities would be:\n",
      "\n",
      "1) get a digital volta\n",
      "\n",
      "Document Class: comp.sys.mac.hardware\n",
      "Main Document Class: comp.sys.ibm.pc.hardware\n",
      "==================================================\n",
      "\n",
      "==================================================\n",
      "Analyzing Document 9736\n",
      "==================================================\n",
      "Content:\n",
      "I have used both my serial ports with a modem and a serial printer, \n",
      "so I cannot use Appletalk.  Is there a Ethernet to Localtalk hardware\n",
      "that will let me use the Ethernet port on my Q700 as a Localt\n",
      "\n",
      "Document Class: comp.sys.mac.hardware\n",
      "Main Document Class: comp.sys.ibm.pc.hardware\n",
      "==================================================\n"
     ]
    }
   ],
   "source": [
    "analyze_similarity(most_similar_idx=most_similar_idx, documents=newsgroups_train.data, labels=y_train, cosine_sim_matrix=cos_sim, main_idx=main_idx)"
   ]
  },
  {
   "cell_type": "markdown",
   "metadata": {},
   "source": [
    "### Análisis del documento: 7608"
   ]
  },
  {
   "cell_type": "code",
   "execution_count": 94,
   "metadata": {},
   "outputs": [],
   "source": [
    "main_idx = 7608\n",
    "cos_sim = cosine_similarity(X_train[main_idx], X_train)[0]"
   ]
  },
  {
   "cell_type": "code",
   "execution_count": 95,
   "metadata": {},
   "outputs": [
    {
     "name": "stdout",
     "output_type": "stream",
     "text": [
      "Most similar documents to document 7608:\n",
      "[2172 6387 7545 2800 9986]\n"
     ]
    },
    {
     "data": {
      "text/plain": [
       "'sci.space'"
      ]
     },
     "execution_count": 95,
     "metadata": {},
     "output_type": "execute_result"
    }
   ],
   "source": [
    "most_similar_idx = np.argsort(cos_sim)[::-1][1:6]\n",
    "\n",
    "print(f'Most similar documents to document {main_idx}:')\n",
    "print(most_similar_idx)\n",
    "newsgroups_train.target_names[y_train[main_idx]]"
   ]
  },
  {
   "cell_type": "code",
   "execution_count": 96,
   "metadata": {},
   "outputs": [
    {
     "name": "stdout",
     "output_type": "stream",
     "text": [
      "Class for document 7608: sci.space\n",
      "Content:\n",
      "Other idea for old space crafts is as navigation beacons and such..\n",
      "Why not?? If you can put them on \"safe\" \"pause\" mode.. why not have them be\n",
      "activated by a signal from a space craft (manned?) to act as a naviagtion\n",
      "beacon, to take a directional plot on??\n"
     ]
    }
   ],
   "source": [
    "print(f'Class for document {main_idx}: {newsgroups_train.target_names[y_train[most_similar_idx[0]]]}')\n",
    "print(f'Content:\\n{newsgroups_train.data[main_idx]}')"
   ]
  },
  {
   "cell_type": "code",
   "execution_count": 97,
   "metadata": {},
   "outputs": [
    {
     "name": "stdout",
     "output_type": "stream",
     "text": [
      "\n",
      "Top 5 Similar Documents:\n",
      "--------------------------------------------------\n",
      "\n",
      "==================================================\n",
      "Analyzing Document 2172\n",
      "==================================================\n",
      "Content:\n",
      "   Other idea for old space crafts is as navigation beacons and such..\n",
      "   Why not??\n",
      "\n",
      "Because to be any use as a nav point you need to know -exactly- where\n",
      "it is, which means you either nail it to some\n",
      "\n",
      "Document Class: sci.space\n",
      "Main Document Class: sci.space\n",
      "==================================================\n",
      "\n",
      "==================================================\n",
      "Analyzing Document 6387\n",
      "==================================================\n",
      "Content:\n",
      "\n",
      "\n",
      "\n",
      "There is a whole constellation of custom built navigation beacon satellites\n",
      "in the process of being phased out right now. The TRANSIT/OSCAR satellites\n",
      "are being replaced by GPS. Or were you thinkin\n",
      "\n",
      "Document Class: sci.space\n",
      "Main Document Class: sci.space\n",
      "==================================================\n",
      "\n",
      "==================================================\n",
      "Analyzing Document 7545\n",
      "==================================================\n",
      "Content:\n",
      "There is an interesting opinion piece in the business section of today's\n",
      "LA Times (Thursday April 15, 1993, p. D1).  I thought I'd post it to\n",
      "stir up some flame wars - I mean reasoned debate.  Let me \n",
      "\n",
      "Document Class: sci.space\n",
      "Main Document Class: sci.space\n",
      "==================================================\n",
      "\n",
      "==================================================\n",
      "Analyzing Document 2800\n",
      "==================================================\n",
      "Content:\n",
      "Archive-name: space/net\n",
      "Last-modified: $Date: 93/04/01 14:39:15 $\n",
      "\n",
      "NETWORK RESOURCES\n",
      "\n",
      "OVERVIEW\n",
      "\n",
      "    You may be reading this document on any one of an amazing variety of\n",
      "    computers, so much of the m\n",
      "\n",
      "Document Class: sci.space\n",
      "Main Document Class: sci.space\n",
      "==================================================\n",
      "\n",
      "==================================================\n",
      "Analyzing Document 9986\n",
      "==================================================\n",
      "Content:\n",
      "Archive-name: space/groups\n",
      "Last-modified: $Date: 93/04/01 14:39:08 $\n",
      "\n",
      "SPACE ACTIVIST/INTEREST/RESEARCH GROUPS AND SPACE PUBLICATIONS\n",
      "\n",
      "    GROUPS\n",
      "\n",
      "    AIA -- Aerospace Industry Association. Professiona\n",
      "\n",
      "Document Class: sci.space\n",
      "Main Document Class: sci.space\n",
      "==================================================\n"
     ]
    }
   ],
   "source": [
    "analyze_similarity(most_similar_idx=most_similar_idx, documents=newsgroups_train.data, labels=y_train, cosine_sim_matrix=cos_sim, main_idx=main_idx)"
   ]
  },
  {
   "cell_type": "markdown",
   "metadata": {},
   "source": [
    "### Análisis del documento: 5426"
   ]
  },
  {
   "cell_type": "code",
   "execution_count": 98,
   "metadata": {},
   "outputs": [],
   "source": [
    "main_idx = 5426\n",
    "cos_sim = cosine_similarity(X_train[main_idx], X_train)[0]"
   ]
  },
  {
   "cell_type": "code",
   "execution_count": 99,
   "metadata": {},
   "outputs": [
    {
     "name": "stdout",
     "output_type": "stream",
     "text": [
      "Most similar documents to document 5426:\n",
      "[11124  7902  9030   955  6635]\n"
     ]
    },
    {
     "data": {
      "text/plain": [
       "'rec.motorcycles'"
      ]
     },
     "execution_count": 99,
     "metadata": {},
     "output_type": "execute_result"
    }
   ],
   "source": [
    "most_similar_idx = np.argsort(cos_sim)[::-1][1:6]\n",
    "\n",
    "print(f'Most similar documents to document {main_idx}:')\n",
    "print(most_similar_idx)\n",
    "newsgroups_train.target_names[y_train[main_idx]]"
   ]
  },
  {
   "cell_type": "code",
   "execution_count": 100,
   "metadata": {},
   "outputs": [
    {
     "name": "stdout",
     "output_type": "stream",
     "text": [
      "Class for document 5426: rec.sport.hockey\n",
      "Content:\n",
      "\n",
      "\n",
      "Hmmm.. The LDDC security guards over here in Docklands only place parking \n",
      "stickers on the drivers SIDE windows.. But on reflection that could still \n",
      "cause an accident.. Suppose it's because people aren't as litigious over \n",
      "here as in the states :-)\n",
      "\n",
      "Stephen\n"
     ]
    }
   ],
   "source": [
    "print(f'Class for document {main_idx}: {newsgroups_train.target_names[y_train[most_similar_idx[0]]]}')\n",
    "print(f'Content:\\n{newsgroups_train.data[main_idx]}')"
   ]
  },
  {
   "cell_type": "code",
   "execution_count": 101,
   "metadata": {},
   "outputs": [
    {
     "name": "stdout",
     "output_type": "stream",
     "text": [
      "\n",
      "Top 5 Similar Documents:\n",
      "--------------------------------------------------\n",
      "\n",
      "==================================================\n",
      "Analyzing Document 11124\n",
      "==================================================\n",
      "Content:\n",
      "PATRICK\n",
      "1st rd:\tPens over Isles in 4.\n",
      "\tDevils over Caps in 6.\n",
      "2nd:\tPens over Devils in 7.\n",
      "\n",
      "ADAMS\n",
      "1st rd: B's over Sabres in 5.\n",
      "\tNords over Habs in 5.\n",
      "2nd:\tB's over Nords in 6.\n",
      "\n",
      "NORRIS\n",
      "1st:\tHawks over \n",
      "\n",
      "Document Class: rec.sport.hockey\n",
      "Main Document Class: rec.motorcycles\n",
      "==================================================\n",
      "\n",
      "==================================================\n",
      "Analyzing Document 7902\n",
      "==================================================\n",
      "Content:\n",
      "\n",
      "(1)  Stephen said you took a quote out of context\n",
      "(2)  You noted that Stephen had not replied to some other t.r.m article\n",
      "     (call it A) that took a quote out of context\n",
      "(3)  But the lack of eviden\n",
      "\n",
      "Document Class: talk.religion.misc\n",
      "Main Document Class: rec.motorcycles\n",
      "==================================================\n",
      "\n",
      "==================================================\n",
      "Analyzing Document 9030\n",
      "==================================================\n",
      "Content:\n",
      "\n",
      "(not that logic has anything to do with it, but...)\n",
      "I can see the liability of putting stickers on the car while it was moving,\n",
      "or something, but it's the BDI that chooses to start and then drive the\n",
      "\n",
      "Document Class: rec.motorcycles\n",
      "Main Document Class: rec.motorcycles\n",
      "==================================================\n",
      "\n",
      "==================================================\n",
      "Analyzing Document 955\n",
      "==================================================\n",
      "Content:\n",
      "\n",
      "The Supreme Court seems to disagree with you -- they have stated that\n",
      "\"the people\" is a term of art refering to an individual right, and\n",
      "have explicitly mentioned the second amendment as an example.\n",
      "\n",
      "\n",
      "Document Class: sci.crypt\n",
      "Main Document Class: rec.motorcycles\n",
      "==================================================\n",
      "\n",
      "==================================================\n",
      "Analyzing Document 6635\n",
      "==================================================\n",
      "Content:\n",
      "THE WHITE HOUSE\n",
      "\n",
      "                    Office of the Press Secretary\n",
      "______________________________________________________________\n",
      "For Immediate Release                             April 15, 1993     \n",
      "\n",
      "\n",
      "Document Class: talk.politics.misc\n",
      "Main Document Class: rec.motorcycles\n",
      "==================================================\n"
     ]
    }
   ],
   "source": [
    "analyze_similarity(most_similar_idx=most_similar_idx, documents=newsgroups_train.data, labels=y_train, cosine_sim_matrix=cos_sim, main_idx=main_idx)"
   ]
  },
  {
   "cell_type": "markdown",
   "metadata": {},
   "source": [
    "### Análisis del documento: 5959"
   ]
  },
  {
   "cell_type": "code",
   "execution_count": 102,
   "metadata": {},
   "outputs": [],
   "source": [
    "main_idx = 5959\n",
    "cos_sim = cosine_similarity(X_train[main_idx], X_train)[0]"
   ]
  },
  {
   "cell_type": "code",
   "execution_count": 103,
   "metadata": {},
   "outputs": [
    {
     "name": "stdout",
     "output_type": "stream",
     "text": [
      "Most similar documents to document 5959:\n",
      "[ 913  919 3746 5826 4271]\n"
     ]
    },
    {
     "data": {
      "text/plain": [
       "'comp.sys.ibm.pc.hardware'"
      ]
     },
     "execution_count": 103,
     "metadata": {},
     "output_type": "execute_result"
    }
   ],
   "source": [
    "most_similar_idx = np.argsort(cos_sim)[::-1][1:6]\n",
    "\n",
    "print(f'Most similar documents to document {main_idx}:')\n",
    "print(most_similar_idx)\n",
    "newsgroups_train.target_names[y_train[main_idx]]"
   ]
  },
  {
   "cell_type": "code",
   "execution_count": 104,
   "metadata": {},
   "outputs": [
    {
     "name": "stdout",
     "output_type": "stream",
     "text": [
      "Class for document 5959: alt.atheism\n",
      "Content:\n",
      "\n",
      "\n",
      "We have plenty of computer labs where the computers are left on all the\n",
      "time. I don't see any shorter lifespan than the ones we have in the\n",
      "offices which does get turned off at the end of the day. In fact, some\n",
      "of the computers in the labs have outlived some of the same ones in the\n",
      "offices. But it goes both ways so can't conclude anything.\n"
     ]
    }
   ],
   "source": [
    "print(f'Class for document {main_idx}: {newsgroups_train.target_names[y_train[most_similar_idx[0]]]}')\n",
    "print(f'Content:\\n{newsgroups_train.data[main_idx]}')"
   ]
  },
  {
   "cell_type": "code",
   "execution_count": 105,
   "metadata": {},
   "outputs": [
    {
     "name": "stdout",
     "output_type": "stream",
     "text": [
      "\n",
      "Top 5 Similar Documents:\n",
      "--------------------------------------------------\n",
      "\n",
      "==================================================\n",
      "Analyzing Document 913\n",
      "==================================================\n",
      "Content:\n",
      "The recent rise of nostalgia in this group, combined with the\n",
      "  incredible level of utter bullshit, has prompted me to comb\n",
      "  through my archives and pull out some of \"The Best of Alt.Atheism\"\n",
      "  for y\n",
      "\n",
      "Document Class: alt.atheism\n",
      "Main Document Class: comp.sys.ibm.pc.hardware\n",
      "==================================================\n",
      "\n",
      "==================================================\n",
      "Analyzing Document 919\n",
      "==================================================\n",
      "Content:\n",
      "Accounts of Anti-Armenian Human Right Violatins in Azerbaijan #009\n",
      "                 Prelude to Current Events in Nagorno-Karabakh\n",
      "\n",
      "      +--------------------------------------------------------------\n",
      "\n",
      "Document Class: talk.politics.mideast\n",
      "Main Document Class: comp.sys.ibm.pc.hardware\n",
      "==================================================\n",
      "\n",
      "==================================================\n",
      "Analyzing Document 3746\n",
      "==================================================\n",
      "Content:\n",
      "THE WHITE HOUSE\n",
      "\n",
      "                  Office of the Press Secretary\n",
      "                 (Vancouver, British Columbia) \n",
      "______________________________________________________________\n",
      "\n",
      "\n",
      "                      \n",
      "\n",
      "Document Class: talk.politics.misc\n",
      "Main Document Class: comp.sys.ibm.pc.hardware\n",
      "==================================================\n",
      "\n",
      "==================================================\n",
      "Analyzing Document 5826\n",
      "==================================================\n",
      "Content:\n",
      "A listmember (D Andrew Killie, I think) wrote, in response to the\n",
      "suggestion that genocide may sometimes be the will of God:\n",
      "\n",
      " > Any God who works that way is indescribably evil,\n",
      " > and unworthy of my\n",
      "\n",
      "Document Class: soc.religion.christian\n",
      "Main Document Class: comp.sys.ibm.pc.hardware\n",
      "==================================================\n",
      "\n",
      "==================================================\n",
      "Analyzing Document 4271\n",
      "==================================================\n",
      "Content:\n",
      "THE WHITE HOUSE\n",
      "\n",
      "                    Office of the Press Secretary\n",
      "______________________________________________________________\n",
      "For Immediate Release                             April 13, 1993     \n",
      "\n",
      "\n",
      "Document Class: talk.politics.misc\n",
      "Main Document Class: comp.sys.ibm.pc.hardware\n",
      "==================================================\n"
     ]
    }
   ],
   "source": [
    "analyze_similarity(most_similar_idx=most_similar_idx, documents=newsgroups_train.data, labels=y_train, cosine_sim_matrix=cos_sim, main_idx=main_idx)"
   ]
  },
  {
   "cell_type": "markdown",
   "metadata": {},
   "source": [
    "### Análisis del documento: 3603"
   ]
  },
  {
   "cell_type": "code",
   "execution_count": 108,
   "metadata": {},
   "outputs": [],
   "source": [
    "main_idx = 3603\n",
    "cos_sim = cosine_similarity(X_train[main_idx], X_train)[0]"
   ]
  },
  {
   "cell_type": "code",
   "execution_count": 109,
   "metadata": {},
   "outputs": [
    {
     "name": "stdout",
     "output_type": "stream",
     "text": [
      "Most similar documents to document 3603:\n",
      "[5928 2495 1739 8101 9764]\n"
     ]
    },
    {
     "data": {
      "text/plain": [
       "'comp.sys.mac.hardware'"
      ]
     },
     "execution_count": 109,
     "metadata": {},
     "output_type": "execute_result"
    }
   ],
   "source": [
    "most_similar_idx = np.argsort(cos_sim)[::-1][1:6]\n",
    "\n",
    "print(f'Most similar documents to document {main_idx}:')\n",
    "print(most_similar_idx)\n",
    "newsgroups_train.target_names[y_train[main_idx]]"
   ]
  },
  {
   "cell_type": "code",
   "execution_count": 110,
   "metadata": {},
   "outputs": [
    {
     "name": "stdout",
     "output_type": "stream",
     "text": [
      "Class for document 3603: comp.sys.mac.hardware\n",
      "Content:\n",
      "\n",
      "\n",
      "...\n",
      "\n",
      "\n",
      "Mac sound hardware is diverse; some macs play in stereo and\n",
      "mix the output (the SE/30 for instance) while others play in\n",
      "stereo but ONLY has the left channel for the speaker, while\n",
      "some are \"truly\" mono (like the LC)\n",
      "\n",
      "Developers know that stuff played in the left channel is\n",
      "guaranteed to be heard, while the right channel isn't. Some\n",
      "send data to both, some only send data to the left channel\n",
      "(the first is preferrable, of course)\n",
      "\n",
      "Cheers,\n",
      "\n",
      "\t\t\t\t\t/ h+\n"
     ]
    }
   ],
   "source": [
    "print(f'Class for document {main_idx}: {newsgroups_train.target_names[y_train[most_similar_idx[0]]]}')\n",
    "print(f'Content:\\n{newsgroups_train.data[main_idx]}')"
   ]
  },
  {
   "cell_type": "code",
   "execution_count": 111,
   "metadata": {},
   "outputs": [
    {
     "name": "stdout",
     "output_type": "stream",
     "text": [
      "\n",
      "Top 5 Similar Documents:\n",
      "--------------------------------------------------\n",
      "\n",
      "==================================================\n",
      "Analyzing Document 5928\n",
      "==================================================\n",
      "Content:\n",
      "or\n",
      "there\n",
      "\n",
      "\n",
      "Okay, I guess its time for a quick explanation of Mac sound.\n",
      "\n",
      "The original documentation for the sound hardware (IM-3) documents how to\n",
      "make sound by directly accessing hardware.  Basically\n",
      "\n",
      "Document Class: comp.sys.mac.hardware\n",
      "Main Document Class: comp.sys.mac.hardware\n",
      "==================================================\n",
      "\n",
      "==================================================\n",
      "Analyzing Document 2495\n",
      "==================================================\n",
      "Content:\n",
      "Hi.  I think I have a problem with the stereo sound output on my Quadra\n",
      "900, but I am not totally sure because my roomate has the same problem\n",
      "on his PowerBook 170.  Any info or experience anyopne has\n",
      "\n",
      "Document Class: comp.sys.mac.hardware\n",
      "Main Document Class: comp.sys.mac.hardware\n",
      "==================================================\n",
      "\n",
      "==================================================\n",
      "Analyzing Document 1739\n",
      "==================================================\n",
      "Content:\n",
      "I'm looking for a used/inexpensive audio mixer.  I need at least \n",
      "4 channels of stereo input and 1 channel of stereo output, but I would\n",
      "prefer 8 or more input channels.  Each channel needs to have at\n",
      "\n",
      "Document Class: misc.forsale\n",
      "Main Document Class: comp.sys.mac.hardware\n",
      "==================================================\n",
      "\n",
      "==================================================\n",
      "Analyzing Document 8101\n",
      "==================================================\n",
      "Content:\n",
      "\n",
      "\n",
      "\n",
      "The Sound Driver is pretty ok, since it's fast. Sound Manager used by the\n",
      "book is *useless*. Disposing of sound channels as soon as sound has completed\n",
      "is out of the question for games with smooth \n",
      "\n",
      "Document Class: comp.sys.mac.hardware\n",
      "Main Document Class: comp.sys.mac.hardware\n",
      "==================================================\n",
      "\n",
      "==================================================\n",
      "Analyzing Document 9764\n",
      "==================================================\n",
      "Content:\n",
      "I missed the first part of this thread; are you switching line level or\n",
      "speaker level audio?\n",
      "If line level, there's a single chip 4x1 *stereo* audio switch available\n",
      "that switches 4 two-channel inputs\n",
      "\n",
      "Document Class: sci.electronics\n",
      "Main Document Class: comp.sys.mac.hardware\n",
      "==================================================\n"
     ]
    }
   ],
   "source": [
    "analyze_similarity(most_similar_idx=most_similar_idx, documents=newsgroups_train.data, labels=y_train, cosine_sim_matrix=cos_sim, main_idx=main_idx)"
   ]
  },
  {
   "cell_type": "code",
   "execution_count": null,
   "metadata": {},
   "outputs": [],
   "source": []
  }
 ],
 "metadata": {
  "kernelspec": {
   "display_name": "venv",
   "language": "python",
   "name": "python3"
  },
  "language_info": {
   "codemirror_mode": {
    "name": "ipython",
    "version": 3
   },
   "file_extension": ".py",
   "mimetype": "text/x-python",
   "name": "python",
   "nbconvert_exporter": "python",
   "pygments_lexer": "ipython3",
   "version": "3.8.10"
  }
 },
 "nbformat": 4,
 "nbformat_minor": 2
}
